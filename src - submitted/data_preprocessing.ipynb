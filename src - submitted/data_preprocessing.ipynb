{
 "cells": [
  {
   "cell_type": "markdown",
   "metadata": {
    "colab_type": "text",
    "id": "view-in-github"
   },
   "source": [
    "<a href=\"https://colab.research.google.com/github/pratzz/Diabetes-Readmission-Prediction/blob/main/Data_Preprocessing.ipynb\" target=\"_parent\"><img src=\"https://colab.research.google.com/assets/colab-badge.svg\" alt=\"Open In Colab\"/></a>"
   ]
  },
  {
   "cell_type": "code",
   "execution_count": 1,
   "metadata": {
    "id": "cDVaJEV3kjUq"
   },
   "outputs": [],
   "source": [
    "import pandas as pd\n",
    "import numpy as np\n",
    "from sklearn.model_selection import train_test_split\n",
    "from pandas_profiling import ProfileReport\n",
    "import os\n",
    "import time"
   ]
  },
  {
   "cell_type": "code",
   "execution_count": 2,
   "metadata": {},
   "outputs": [],
   "source": [
    "timestr = time.strftime(\"%Y%m%d-%H%M%S\")\n",
    "output_path = os.path.join(\"../output\")\n",
    "data_path = \"../data\"\n",
    "data_exploration_path = os.path.join(output_path, \"data_exploration\")\n",
    "processed_data_path = os.path.join(data_path, \"processed_data\")\n",
    "if not os.path.exists(data_exploration_path):\n",
    "    os.makedirs(data_exploration_path) \n",
    "if not os.path.exists(processed_data_path):\n",
    "    os.makedirs(processed_data_path)"
   ]
  },
  {
   "cell_type": "code",
   "execution_count": 3,
   "metadata": {
    "id": "XKP9zgEGkjU4"
   },
   "outputs": [],
   "source": [
    "train_data = pd.read_csv(os.path.join(data_path, \"raw_data/train.csv\"))\n",
    "test_data = pd.read_csv(os.path.join(data_path, \"raw_data/test.csv\"))\n",
    "\n",
    "# train_data.head(10)"
   ]
  },
  {
   "cell_type": "markdown",
   "metadata": {},
   "source": [
    "### Data Profiling & Analysis \n"
   ]
  },
  {
   "cell_type": "code",
   "execution_count": 4,
   "metadata": {},
   "outputs": [
    {
     "data": {
      "application/vnd.jupyter.widget-view+json": {
       "model_id": "5c24d5d353704e399c125330a2f1bb9d",
       "version_major": 2,
       "version_minor": 0
      },
      "text/plain": [
       "HBox(children=(HTML(value='Summarize dataset'), FloatProgress(value=0.0, max=37.0), HTML(value='')))"
      ]
     },
     "metadata": {},
     "output_type": "display_data"
    },
    {
     "name": "stdout",
     "output_type": "stream",
     "text": [
      "\n"
     ]
    },
    {
     "data": {
      "application/vnd.jupyter.widget-view+json": {
       "model_id": "a1865a07279b4c9b8ff008ff88bbba23",
       "version_major": 2,
       "version_minor": 0
      },
      "text/plain": [
       "HBox(children=(HTML(value='Generate report structure'), FloatProgress(value=0.0, max=1.0), HTML(value='')))"
      ]
     },
     "metadata": {},
     "output_type": "display_data"
    },
    {
     "name": "stdout",
     "output_type": "stream",
     "text": [
      "\n"
     ]
    },
    {
     "data": {
      "application/vnd.jupyter.widget-view+json": {
       "model_id": "",
       "version_major": 2,
       "version_minor": 0
      },
      "text/plain": [
       "HBox(children=(HTML(value='Render widgets'), FloatProgress(value=0.0, max=1.0), HTML(value='')))"
      ]
     },
     "metadata": {},
     "output_type": "display_data"
    },
    {
     "data": {
      "application/vnd.jupyter.widget-view+json": {
       "model_id": "781ab8c176934331b7049121254c820f",
       "version_major": 2,
       "version_minor": 0
      },
      "text/plain": [
       "VBox(children=(Tab(children=(Tab(children=(GridBox(children=(VBox(children=(GridspecLayout(children=(HTML(valu…"
      ]
     },
     "metadata": {},
     "output_type": "display_data"
    }
   ],
   "source": [
    "profile_report = ProfileReport(train_data, title=\"Pandas Profiling Report\")\n",
    "profile_report.to_widgets()"
   ]
  },
  {
   "cell_type": "code",
   "execution_count": 5,
   "metadata": {},
   "outputs": [
    {
     "data": {
      "application/vnd.jupyter.widget-view+json": {
       "model_id": "6184a81c1d244bad99afe273cc73fa81",
       "version_major": 2,
       "version_minor": 0
      },
      "text/plain": [
       "HBox(children=(HTML(value='Render HTML'), FloatProgress(value=0.0, max=1.0), HTML(value='')))"
      ]
     },
     "metadata": {},
     "output_type": "display_data"
    },
    {
     "name": "stdout",
     "output_type": "stream",
     "text": [
      "\n"
     ]
    },
    {
     "data": {
      "application/vnd.jupyter.widget-view+json": {
       "model_id": "e14bf06e3f6e4790be2c1ff1be2c14f1",
       "version_major": 2,
       "version_minor": 0
      },
      "text/plain": [
       "HBox(children=(HTML(value='Export report to file'), FloatProgress(value=0.0, max=1.0), HTML(value='')))"
      ]
     },
     "metadata": {},
     "output_type": "display_data"
    },
    {
     "name": "stdout",
     "output_type": "stream",
     "text": [
      "\n"
     ]
    }
   ],
   "source": [
    "profile_report.to_file(os.path.join(data_exploration_path, \"profile_report_1__%s.html\"%timestr)) "
   ]
  },
  {
   "cell_type": "markdown",
   "metadata": {},
   "source": [
    "##### Combining train_data and test_data\n"
   ]
  },
  {
   "cell_type": "code",
   "execution_count": 6,
   "metadata": {},
   "outputs": [],
   "source": [
    "train_data['data']='train'\n",
    "test_data['data']='test'\n",
    "data=pd.concat([train_data,test_data],0,sort=False)\n",
    "# data.head(10)\n",
    "# data.columns"
   ]
  },
  {
   "cell_type": "markdown",
   "metadata": {},
   "source": [
    "##### Drop columns\n",
    "\n",
    "<br> Name: high cardinality\n",
    "<br> Property ID: high cardinality\n",
    "<br> Age: missing % = 15, autocorrelation = Income Stability, all classes equal distribution\n",
    "<br> Gender: missing % = 0.2, all classes equal distribution\n",
    "<br> Income Stability: missing % = 5.6, autocorrelation = Age & Profession (included)\n",
    "<br> Expense Type 2: autocorrelation = Expense Type 1 (included)\n",
    "<br> Has Active Credit Card: missing % = 5.2, all classes equal distribution\n",
    "<br> Property Location: all classes equal distribution\n",
    "<br> Property Type: all classes equal distribution"
   ]
  },
  {
   "cell_type": "code",
   "execution_count": 7,
   "metadata": {
    "id": "QG8v9_52kjU_"
   },
   "outputs": [],
   "source": [
    "drop_cols = [\"Name\", \"Age\", \"Gender\", \"Income Stability\", \"Expense Type 2\", \"Has Active Credit Card\", \"Property ID\", \"Property Location\", \"Property Type\"]\n",
    "data = data.drop(drop_cols, axis=1)"
   ]
  },
  {
   "cell_type": "code",
   "execution_count": 8,
   "metadata": {},
   "outputs": [
    {
     "data": {
      "text/plain": [
       "(50000, 16)"
      ]
     },
     "execution_count": 8,
     "metadata": {},
     "output_type": "execute_result"
    }
   ],
   "source": [
    "data.shape"
   ]
  },
  {
   "cell_type": "markdown",
   "metadata": {},
   "source": [
    "##### Missing value treatment\n",
    "\n",
    "<br> Income (USD): impute median\n",
    "<br> Current Loan Expenses (USD): impute median\n",
    "<br> Dependents: impute 0\n",
    "<br> Property Age: impute median\n",
    "<br> Type of Employment: impute nan as \"missing_val\"\n",
    "<br> Loan Sanction Amount (USD): drop missing\n",
    "<br> Property Price: replace string (?) with median\n",
    "<br> Co-Applicant: replace string (?) with median"
   ]
  },
  {
   "cell_type": "code",
   "execution_count": 9,
   "metadata": {},
   "outputs": [],
   "source": [
    "data.describe(include = \"object\").transpose()\n",
    "data['Property Price'] = data['Property Price'].replace('?',np.nan).astype(float)\n",
    "data['Co-Applicant'] = data['Co-Applicant'].replace('?',np.nan).astype(float)\n",
    "data['Co-Applicant'] = data['Co-Applicant'].replace(-999.,np.nan).astype(float)\n",
    "\n",
    "impute_median_col = [\"Income (USD)\", \"Current Loan Expenses (USD)\", \"Property Age\", \"Credit Score\", \"Property Price\",\"Co-Applicant\"]\n",
    "\n",
    "for col in impute_median_col:\n",
    "        data.loc[data[col].isnull(),col]=data.loc[data['data']=='train',col].median()\n",
    "data[\"Type of Employment\"].fillna(\"missing_val\", inplace=True)\n",
    "data[\"Dependents\"].fillna(\"0\", inplace=True)\n",
    "# data.isnull().sum()"
   ]
  },
  {
   "cell_type": "code",
   "execution_count": 10,
   "metadata": {},
   "outputs": [
    {
     "data": {
      "text/html": [
       "<div>\n",
       "<style scoped>\n",
       "    .dataframe tbody tr th:only-of-type {\n",
       "        vertical-align: middle;\n",
       "    }\n",
       "\n",
       "    .dataframe tbody tr th {\n",
       "        vertical-align: top;\n",
       "    }\n",
       "\n",
       "    .dataframe thead th {\n",
       "        text-align: right;\n",
       "    }\n",
       "</style>\n",
       "<table border=\"1\" class=\"dataframe\">\n",
       "  <thead>\n",
       "    <tr style=\"text-align: right;\">\n",
       "      <th></th>\n",
       "      <th>count</th>\n",
       "      <th>unique</th>\n",
       "      <th>top</th>\n",
       "      <th>freq</th>\n",
       "    </tr>\n",
       "  </thead>\n",
       "  <tbody>\n",
       "    <tr>\n",
       "      <th>Customer ID</th>\n",
       "      <td>50000</td>\n",
       "      <td>50000</td>\n",
       "      <td>C-37190</td>\n",
       "      <td>1</td>\n",
       "    </tr>\n",
       "    <tr>\n",
       "      <th>Profession</th>\n",
       "      <td>50000</td>\n",
       "      <td>8</td>\n",
       "      <td>Working</td>\n",
       "      <td>28331</td>\n",
       "    </tr>\n",
       "    <tr>\n",
       "      <th>Type of Employment</th>\n",
       "      <td>50000</td>\n",
       "      <td>19</td>\n",
       "      <td>missing_val</td>\n",
       "      <td>11959</td>\n",
       "    </tr>\n",
       "    <tr>\n",
       "      <th>Location</th>\n",
       "      <td>50000</td>\n",
       "      <td>3</td>\n",
       "      <td>Semi-Urban</td>\n",
       "      <td>36026</td>\n",
       "    </tr>\n",
       "    <tr>\n",
       "      <th>Expense Type 1</th>\n",
       "      <td>50000</td>\n",
       "      <td>2</td>\n",
       "      <td>N</td>\n",
       "      <td>32030</td>\n",
       "    </tr>\n",
       "    <tr>\n",
       "      <th>Dependents</th>\n",
       "      <td>50000</td>\n",
       "      <td>12</td>\n",
       "      <td>2</td>\n",
       "      <td>22059</td>\n",
       "    </tr>\n",
       "    <tr>\n",
       "      <th>data</th>\n",
       "      <td>50000</td>\n",
       "      <td>2</td>\n",
       "      <td>train</td>\n",
       "      <td>30000</td>\n",
       "    </tr>\n",
       "  </tbody>\n",
       "</table>\n",
       "</div>"
      ],
      "text/plain": [
       "                    count unique          top   freq\n",
       "Customer ID         50000  50000      C-37190      1\n",
       "Profession          50000      8      Working  28331\n",
       "Type of Employment  50000     19  missing_val  11959\n",
       "Location            50000      3   Semi-Urban  36026\n",
       "Expense Type 1      50000      2            N  32030\n",
       "Dependents          50000     12            2  22059\n",
       "data                50000      2        train  30000"
      ]
     },
     "execution_count": 10,
     "metadata": {},
     "output_type": "execute_result"
    }
   ],
   "source": [
    "data.describe(include = \"object\").transpose()"
   ]
  },
  {
   "cell_type": "markdown",
   "metadata": {},
   "source": [
    "##### Create categories \n",
    "\n",
    "\n",
    "<br> steps\n",
    "<br> 1. select cut-off frequency\n",
    "<br> 2. create categories"
   ]
  },
  {
   "cell_type": "code",
   "execution_count": 11,
   "metadata": {},
   "outputs": [
    {
     "data": {
      "text/plain": [
       "(50000, 29)"
      ]
     },
     "execution_count": 11,
     "metadata": {},
     "output_type": "execute_result"
    }
   ],
   "source": [
    "# cat_cols = data.select_dtypes(['object']).columns\n",
    "# cat_cols\n",
    "\n",
    "# convert to dummies\n",
    "\n",
    "cat_cols1 = [\"Type of Employment\", \"Expense Type 1\", \"Profession\"]\n",
    "\n",
    "for col in cat_cols1:\n",
    "    freqs=data[col].value_counts()\n",
    "    k=freqs.index[freqs>2000][:-1]\n",
    "    for cat in k:\n",
    "        name=col+'_'+cat\n",
    "        data[name]=(data[col]==cat).astype(int)\n",
    "    del data[col]\n",
    "    \n",
    "# convert to dummies\n",
    "data[\"Dependents\"] = data[\"Dependents\"].astype(str)\n",
    "cat_cols2 = [\"Dependents\"]\n",
    "\n",
    "for col in cat_cols2:\n",
    "    freqs=data[col].value_counts()\n",
    "    k=freqs.index[freqs>300][:-1]\n",
    "    for cat in k:\n",
    "        name=col+'_'+cat\n",
    "        data[name]=(data[col]==cat).astype(int)\n",
    "    del data[col]\n",
    "    \n",
    "cat_cols3 = [\"Location\"]\n",
    "for col in cat_cols3:\n",
    "    freqs=data[col].value_counts()\n",
    "    k=freqs.index[freqs>3000][:-1]\n",
    "    for cat in k:\n",
    "        name=col+'_'+cat\n",
    "        data[name]=(data[col]==cat).astype(int)\n",
    "    del data[col]        \n",
    "   \n",
    "data.shape"
   ]
  },
  {
   "cell_type": "code",
   "execution_count": 12,
   "metadata": {},
   "outputs": [
    {
     "data": {
      "text/html": [
       "<div>\n",
       "<style scoped>\n",
       "    .dataframe tbody tr th:only-of-type {\n",
       "        vertical-align: middle;\n",
       "    }\n",
       "\n",
       "    .dataframe tbody tr th {\n",
       "        vertical-align: top;\n",
       "    }\n",
       "\n",
       "    .dataframe thead th {\n",
       "        text-align: right;\n",
       "    }\n",
       "</style>\n",
       "<table border=\"1\" class=\"dataframe\">\n",
       "  <thead>\n",
       "    <tr style=\"text-align: right;\">\n",
       "      <th></th>\n",
       "      <th>count</th>\n",
       "      <th>unique</th>\n",
       "      <th>top</th>\n",
       "      <th>freq</th>\n",
       "    </tr>\n",
       "  </thead>\n",
       "  <tbody>\n",
       "    <tr>\n",
       "      <th>Customer ID</th>\n",
       "      <td>50000</td>\n",
       "      <td>50000</td>\n",
       "      <td>C-37190</td>\n",
       "      <td>1</td>\n",
       "    </tr>\n",
       "    <tr>\n",
       "      <th>data</th>\n",
       "      <td>50000</td>\n",
       "      <td>2</td>\n",
       "      <td>train</td>\n",
       "      <td>30000</td>\n",
       "    </tr>\n",
       "  </tbody>\n",
       "</table>\n",
       "</div>"
      ],
      "text/plain": [
       "             count unique      top   freq\n",
       "Customer ID  50000  50000  C-37190      1\n",
       "data         50000      2    train  30000"
      ]
     },
     "execution_count": 12,
     "metadata": {},
     "output_type": "execute_result"
    }
   ],
   "source": [
    "data.describe(include = \"object\").transpose()"
   ]
  },
  {
   "cell_type": "markdown",
   "metadata": {},
   "source": [
    "##### Re-splitting data to train_data and test_data"
   ]
  },
  {
   "cell_type": "code",
   "execution_count": 13,
   "metadata": {},
   "outputs": [
    {
     "data": {
      "text/plain": [
       "(30000, 28)"
      ]
     },
     "execution_count": 13,
     "metadata": {},
     "output_type": "execute_result"
    }
   ],
   "source": [
    "train_data=data[data['data']=='train']\n",
    "del train_data['data']\n",
    "test_data=data[data['data']=='test']\n",
    "del test_data['data']\n",
    "del test_data['Loan Sanction Amount (USD)']\n",
    "train_data.shape"
   ]
  },
  {
   "cell_type": "markdown",
   "metadata": {},
   "source": [
    "##### Outlier treatment\n",
    "\n",
    "<br> Income (USD): 1.5 * IQR\n",
    "<br> Current Loan Expenses (USD): 1.5 * IQR\n",
    "<br> Property Age: 1.5 * IQR\n",
    "<br> Loan Sanction Amount (USD): <0"
   ]
  },
  {
   "cell_type": "code",
   "execution_count": 14,
   "metadata": {},
   "outputs": [],
   "source": [
    "cols = ['Income (USD)', 'Current Loan Expenses (USD)', 'Property Age']\n",
    "\n",
    "Q1 = train_data[cols].quantile(0.25)\n",
    "Q3 = train_data[cols].quantile(0.75)\n",
    "IQR = Q3 - Q1\n",
    "\n",
    "train_data = train_data[~((train_data[cols] < (Q1 - 1.5 * IQR)) |(train_data[cols] > (Q3 + 1.5 * IQR))).any(axis=1)]\n",
    "\n",
    "train_data.drop(train_data[train_data[\"Loan Sanction Amount (USD)\"] < 0].index, inplace=True)\n",
    "# train_data.shape"
   ]
  },
  {
   "cell_type": "markdown",
   "metadata": {},
   "source": [
    "##### Missing value treatment\n",
    "\n",
    "<br> Loan Sanction Amount (USD): drop missing"
   ]
  },
  {
   "cell_type": "code",
   "execution_count": 15,
   "metadata": {},
   "outputs": [
    {
     "data": {
      "text/plain": [
       "(26831, 28)"
      ]
     },
     "execution_count": 15,
     "metadata": {},
     "output_type": "execute_result"
    }
   ],
   "source": [
    "train_data = train_data.dropna(subset=[\"Loan Sanction Amount (USD)\"])\n",
    "train_data.shape\n",
    "# train_data.transpose()"
   ]
  },
  {
   "cell_type": "markdown",
   "metadata": {},
   "source": [
    "##### Splitting data into train and validation datasets \n"
   ]
  },
  {
   "cell_type": "code",
   "execution_count": 16,
   "metadata": {},
   "outputs": [],
   "source": [
    "target='Loan Sanction Amount (USD)'\n",
    "\n",
    "X = train_data.drop([target],1)\n",
    "y = train_data[target]\n",
    "# Divide the training data given to train and validation data frames\n",
    "x_train, x_val, y_train, y_val = train_test_split(X, y, test_size=0.2, random_state=42)"
   ]
  },
  {
   "cell_type": "markdown",
   "metadata": {},
   "source": [
    "##### Saving data on disk"
   ]
  },
  {
   "cell_type": "code",
   "execution_count": 17,
   "metadata": {},
   "outputs": [],
   "source": [
    "x_train.to_csv(os.path.join(processed_data_path, \"x_train.csv\"),index=False)\n",
    "x_val.to_csv(os.path.join(processed_data_path, \"x_val.csv\"),index=False)\n",
    "y_train.to_csv(os.path.join(processed_data_path, \"y_train.csv\"),index=False)\n",
    "y_val.to_csv(os.path.join(processed_data_path, \"y_val.csv\"),index=False)\n",
    "test_data.to_csv(os.path.join(processed_data_path, \"x_test.csv\"),index=False)"
   ]
  },
  {
   "cell_type": "markdown",
   "metadata": {},
   "source": [
    "### Data Profiling & Analysis of Processed train data\n"
   ]
  },
  {
   "cell_type": "code",
   "execution_count": 18,
   "metadata": {},
   "outputs": [
    {
     "data": {
      "application/vnd.jupyter.widget-view+json": {
       "model_id": "9a8022631ce64d3b814bfb8d153a18b3",
       "version_major": 2,
       "version_minor": 0
      },
      "text/plain": [
       "HBox(children=(HTML(value='Summarize dataset'), FloatProgress(value=0.0, max=41.0), HTML(value='')))"
      ]
     },
     "metadata": {},
     "output_type": "display_data"
    },
    {
     "name": "stdout",
     "output_type": "stream",
     "text": [
      "\n"
     ]
    },
    {
     "data": {
      "application/vnd.jupyter.widget-view+json": {
       "model_id": "6e6a7a404e20435d9f59fe2811630739",
       "version_major": 2,
       "version_minor": 0
      },
      "text/plain": [
       "HBox(children=(HTML(value='Generate report structure'), FloatProgress(value=0.0, max=1.0), HTML(value='')))"
      ]
     },
     "metadata": {},
     "output_type": "display_data"
    },
    {
     "name": "stdout",
     "output_type": "stream",
     "text": [
      "\n"
     ]
    },
    {
     "data": {
      "application/vnd.jupyter.widget-view+json": {
       "model_id": "",
       "version_major": 2,
       "version_minor": 0
      },
      "text/plain": [
       "HBox(children=(HTML(value='Render widgets'), FloatProgress(value=0.0, max=1.0), HTML(value='')))"
      ]
     },
     "metadata": {},
     "output_type": "display_data"
    },
    {
     "data": {
      "application/vnd.jupyter.widget-view+json": {
       "model_id": "620f908633ca46a8a57b06c696b39230",
       "version_major": 2,
       "version_minor": 0
      },
      "text/plain": [
       "VBox(children=(Tab(children=(Tab(children=(GridBox(children=(VBox(children=(GridspecLayout(children=(HTML(valu…"
      ]
     },
     "metadata": {},
     "output_type": "display_data"
    }
   ],
   "source": [
    "profile_report2 = ProfileReport(x_train, title=\"Pandas Profiling Report\")\n",
    "profile_report2.to_widgets()"
   ]
  },
  {
   "cell_type": "code",
   "execution_count": 19,
   "metadata": {},
   "outputs": [
    {
     "data": {
      "application/vnd.jupyter.widget-view+json": {
       "model_id": "a1625b1d9164471587c9af811774e4a4",
       "version_major": 2,
       "version_minor": 0
      },
      "text/plain": [
       "HBox(children=(HTML(value='Render HTML'), FloatProgress(value=0.0, max=1.0), HTML(value='')))"
      ]
     },
     "metadata": {},
     "output_type": "display_data"
    },
    {
     "name": "stdout",
     "output_type": "stream",
     "text": [
      "\n"
     ]
    },
    {
     "data": {
      "application/vnd.jupyter.widget-view+json": {
       "model_id": "5d982042898b4473913e29d29c1e86f0",
       "version_major": 2,
       "version_minor": 0
      },
      "text/plain": [
       "HBox(children=(HTML(value='Export report to file'), FloatProgress(value=0.0, max=1.0), HTML(value='')))"
      ]
     },
     "metadata": {},
     "output_type": "display_data"
    },
    {
     "name": "stdout",
     "output_type": "stream",
     "text": [
      "\n"
     ]
    }
   ],
   "source": [
    "profile_report2.to_file(os.path.join(data_exploration_path, \"profile_report_2__%s.html\"%timestr)) "
   ]
  }
 ],
 "metadata": {
  "colab": {
   "include_colab_link": true,
   "name": "Data Preprocessing.ipynb",
   "provenance": []
  },
  "kernelspec": {
   "display_name": "Python 3",
   "language": "python",
   "name": "python3"
  },
  "language_info": {
   "codemirror_mode": {
    "name": "ipython",
    "version": 3
   },
   "file_extension": ".py",
   "mimetype": "text/x-python",
   "name": "python",
   "nbconvert_exporter": "python",
   "pygments_lexer": "ipython3",
   "version": "3.8.5"
  }
 },
 "nbformat": 4,
 "nbformat_minor": 1
}
